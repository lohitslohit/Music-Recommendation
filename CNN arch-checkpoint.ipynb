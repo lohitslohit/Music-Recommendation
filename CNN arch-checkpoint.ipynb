{
 "cells": [
  {
   "cell_type": "code",
   "execution_count": 1,
   "id": "operational-workstation",
   "metadata": {},
   "outputs": [],
   "source": [
    "import tensorflow"
   ]
  },
  {
   "cell_type": "code",
   "execution_count": 2,
   "id": "loved-running",
   "metadata": {},
   "outputs": [],
   "source": [
    "train=\"D:\\\\AI\\\\Data\\\\Face Expression\\\\train\"\n",
    "valid=\"D:\\\\AI\\\\Data\\\\Face Expression\\\\validation\""
   ]
  },
  {
   "cell_type": "code",
   "execution_count": 3,
   "id": "motivated-print",
   "metadata": {},
   "outputs": [],
   "source": [
    "from tensorflow.keras.preprocessing.image import ImageDataGenerator"
   ]
  },
  {
   "cell_type": "code",
   "execution_count": 4,
   "id": "pointed-cheese",
   "metadata": {},
   "outputs": [],
   "source": [
    "training_datagen=ImageDataGenerator(rotation_range=40,\n",
    "                                   width_shift_range=0.2,\n",
    "                                   height_shift_range=0.2,\n",
    "                                   shear_range=0.2,\n",
    "                                   zoom_range=0.2,\n",
    "                                   fill_mode='nearest',\n",
    "                                   horizontal_flip=True,\n",
    "                                   rescale=1./255)"
   ]
  },
  {
   "cell_type": "code",
   "execution_count": 5,
   "id": "working-president",
   "metadata": {},
   "outputs": [
    {
     "name": "stdout",
     "output_type": "stream",
     "text": [
      "Found 28821 images belonging to 7 classes.\n"
     ]
    }
   ],
   "source": [
    "training_dataset=training_datagen.flow_from_directory(train,\n",
    "                                                     color_mode=\"grayscale\",\n",
    "                                                     batch_size=32,\n",
    "                                                     target_size=(48,48),\n",
    "                                                     class_mode=\"categorical\")"
   ]
  },
  {
   "cell_type": "code",
   "execution_count": 6,
   "id": "aerial-rebound",
   "metadata": {},
   "outputs": [
    {
     "data": {
      "text/plain": [
       "{'angry': 0,\n",
       " 'disgust': 1,\n",
       " 'fear': 2,\n",
       " 'happy': 3,\n",
       " 'neutral': 4,\n",
       " 'sad': 5,\n",
       " 'surprise': 6}"
      ]
     },
     "execution_count": 6,
     "metadata": {},
     "output_type": "execute_result"
    }
   ],
   "source": [
    "training_dataset.class_indices"
   ]
  },
  {
   "cell_type": "code",
   "execution_count": 7,
   "id": "fifteen-elder",
   "metadata": {},
   "outputs": [],
   "source": [
    "test_datagen=ImageDataGenerator(rescale=1./255)"
   ]
  },
  {
   "cell_type": "code",
   "execution_count": 8,
   "id": "spare-rating",
   "metadata": {},
   "outputs": [
    {
     "name": "stdout",
     "output_type": "stream",
     "text": [
      "Found 7066 images belonging to 7 classes.\n"
     ]
    }
   ],
   "source": [
    "valid_dataset=test_datagen.flow_from_directory(valid,\n",
    "                                              color_mode=\"grayscale\",\n",
    "                                              target_size=(48,48),\n",
    "                                              class_mode=\"categorical\")"
   ]
  },
  {
   "cell_type": "code",
   "execution_count": 9,
   "id": "determined-current",
   "metadata": {},
   "outputs": [],
   "source": [
    "from tensorflow.keras import Sequential"
   ]
  },
  {
   "cell_type": "code",
   "execution_count": 10,
   "id": "blond-monitor",
   "metadata": {},
   "outputs": [],
   "source": [
    "from tensorflow.keras.layers import Conv2D,Activation,MaxPooling2D,Dropout,BatchNormalization,Flatten"
   ]
  },
  {
   "cell_type": "code",
   "execution_count": 11,
   "id": "norwegian-symbol",
   "metadata": {},
   "outputs": [],
   "source": [
    "model=Sequential()"
   ]
  },
  {
   "cell_type": "code",
   "execution_count": 12,
   "id": "moved-journal",
   "metadata": {},
   "outputs": [],
   "source": [
    "#conv layer 1\n",
    "model.add(Conv2D(64,(3,3), padding=\"same\",input_shape=(48,48,1)))\n",
    "model.add(BatchNormalization())\n",
    "model.add(Activation(\"relu\"))\n",
    "model.add(MaxPooling2D(pool_size=(2,2)))\n",
    "model.add(Dropout(0.25))"
   ]
  },
  {
   "cell_type": "code",
   "execution_count": 13,
   "id": "acknowledged-firewall",
   "metadata": {},
   "outputs": [],
   "source": [
    "#Conv2\n",
    "model.add(Conv2D(128,(3,3), padding=\"same\"))\n",
    "model.add(BatchNormalization())\n",
    "model.add(Activation(\"relu\"))\n",
    "model.add(MaxPooling2D(pool_size=(2,2)))\n",
    "model.add(Dropout(0.25))"
   ]
  },
  {
   "cell_type": "code",
   "execution_count": 14,
   "id": "controlled-record",
   "metadata": {},
   "outputs": [],
   "source": [
    "#Conv3\n",
    "model.add(Conv2D(512,(3,3), padding=\"same\"))\n",
    "model.add(BatchNormalization())\n",
    "model.add(Activation(\"relu\"))\n",
    "model.add(MaxPooling2D(pool_size=(2,2)))\n",
    "model.add(Dropout(0.25))"
   ]
  },
  {
   "cell_type": "code",
   "execution_count": 15,
   "id": "compliant-cuisine",
   "metadata": {},
   "outputs": [],
   "source": [
    "#Conv4\n",
    "model.add(Conv2D(512,(3,3), padding=\"same\"))\n",
    "model.add(BatchNormalization())\n",
    "model.add(Activation(\"relu\"))\n",
    "model.add(MaxPooling2D(pool_size=(2,2)))\n",
    "model.add(Dropout(0.25))"
   ]
  },
  {
   "cell_type": "code",
   "execution_count": 16,
   "id": "mobile-gates",
   "metadata": {},
   "outputs": [],
   "source": [
    "model.add(Flatten())"
   ]
  },
  {
   "cell_type": "code",
   "execution_count": 17,
   "id": "equal-roller",
   "metadata": {},
   "outputs": [],
   "source": [
    "from tensorflow.keras.layers import Dense"
   ]
  },
  {
   "cell_type": "code",
   "execution_count": 18,
   "id": "impaired-deadline",
   "metadata": {},
   "outputs": [],
   "source": [
    "model.add(Dense(256))\n",
    "model.add(BatchNormalization())\n",
    "model.add(Activation('relu'))\n",
    "model.add(Dropout(0.25))"
   ]
  },
  {
   "cell_type": "code",
   "execution_count": 19,
   "id": "biblical-riding",
   "metadata": {},
   "outputs": [],
   "source": [
    "model.add(Dense(512))\n",
    "model.add(BatchNormalization())\n",
    "model.add(Activation('relu'))\n",
    "model.add(Dropout(0.25))"
   ]
  },
  {
   "cell_type": "code",
   "execution_count": 20,
   "id": "contrary-douglas",
   "metadata": {},
   "outputs": [],
   "source": [
    "model.add(Dense(7, activation='softmax'))"
   ]
  },
  {
   "cell_type": "code",
   "execution_count": 21,
   "id": "adjacent-retail",
   "metadata": {},
   "outputs": [
    {
     "name": "stdout",
     "output_type": "stream",
     "text": [
      "Model: \"sequential\"\n",
      "_________________________________________________________________\n",
      "Layer (type)                 Output Shape              Param #   \n",
      "=================================================================\n",
      "conv2d (Conv2D)              (None, 48, 48, 64)        640       \n",
      "_________________________________________________________________\n",
      "batch_normalization (BatchNo (None, 48, 48, 64)        256       \n",
      "_________________________________________________________________\n",
      "activation (Activation)      (None, 48, 48, 64)        0         \n",
      "_________________________________________________________________\n",
      "max_pooling2d (MaxPooling2D) (None, 24, 24, 64)        0         \n",
      "_________________________________________________________________\n",
      "dropout (Dropout)            (None, 24, 24, 64)        0         \n",
      "_________________________________________________________________\n",
      "conv2d_1 (Conv2D)            (None, 24, 24, 128)       73856     \n",
      "_________________________________________________________________\n",
      "batch_normalization_1 (Batch (None, 24, 24, 128)       512       \n",
      "_________________________________________________________________\n",
      "activation_1 (Activation)    (None, 24, 24, 128)       0         \n",
      "_________________________________________________________________\n",
      "max_pooling2d_1 (MaxPooling2 (None, 12, 12, 128)       0         \n",
      "_________________________________________________________________\n",
      "dropout_1 (Dropout)          (None, 12, 12, 128)       0         \n",
      "_________________________________________________________________\n",
      "conv2d_2 (Conv2D)            (None, 12, 12, 512)       590336    \n",
      "_________________________________________________________________\n",
      "batch_normalization_2 (Batch (None, 12, 12, 512)       2048      \n",
      "_________________________________________________________________\n",
      "activation_2 (Activation)    (None, 12, 12, 512)       0         \n",
      "_________________________________________________________________\n",
      "max_pooling2d_2 (MaxPooling2 (None, 6, 6, 512)         0         \n",
      "_________________________________________________________________\n",
      "dropout_2 (Dropout)          (None, 6, 6, 512)         0         \n",
      "_________________________________________________________________\n",
      "conv2d_3 (Conv2D)            (None, 6, 6, 512)         2359808   \n",
      "_________________________________________________________________\n",
      "batch_normalization_3 (Batch (None, 6, 6, 512)         2048      \n",
      "_________________________________________________________________\n",
      "activation_3 (Activation)    (None, 6, 6, 512)         0         \n",
      "_________________________________________________________________\n",
      "max_pooling2d_3 (MaxPooling2 (None, 3, 3, 512)         0         \n",
      "_________________________________________________________________\n",
      "dropout_3 (Dropout)          (None, 3, 3, 512)         0         \n",
      "_________________________________________________________________\n",
      "flatten (Flatten)            (None, 4608)              0         \n",
      "_________________________________________________________________\n",
      "dense (Dense)                (None, 256)               1179904   \n",
      "_________________________________________________________________\n",
      "batch_normalization_4 (Batch (None, 256)               1024      \n",
      "_________________________________________________________________\n",
      "activation_4 (Activation)    (None, 256)               0         \n",
      "_________________________________________________________________\n",
      "dropout_4 (Dropout)          (None, 256)               0         \n",
      "_________________________________________________________________\n",
      "dense_1 (Dense)              (None, 512)               131584    \n",
      "_________________________________________________________________\n",
      "batch_normalization_5 (Batch (None, 512)               2048      \n",
      "_________________________________________________________________\n",
      "activation_5 (Activation)    (None, 512)               0         \n",
      "_________________________________________________________________\n",
      "dropout_5 (Dropout)          (None, 512)               0         \n",
      "_________________________________________________________________\n",
      "dense_2 (Dense)              (None, 7)                 3591      \n",
      "=================================================================\n",
      "Total params: 4,347,655\n",
      "Trainable params: 4,343,687\n",
      "Non-trainable params: 3,968\n",
      "_________________________________________________________________\n"
     ]
    }
   ],
   "source": [
    "model.summary()"
   ]
  },
  {
   "cell_type": "code",
   "execution_count": 22,
   "id": "ready-practitioner",
   "metadata": {},
   "outputs": [],
   "source": [
    "from tensorflow.keras.optimizers import Adam"
   ]
  },
  {
   "cell_type": "code",
   "execution_count": 23,
   "id": "chinese-wilderness",
   "metadata": {},
   "outputs": [],
   "source": [
    "model.compile(optimizer=Adam(lr=0.0001),\n",
    "             loss='categorical_crossentropy',\n",
    "             metrics=['accuracy'])"
   ]
  },
  {
   "cell_type": "code",
   "execution_count": 24,
   "id": "varying-tribe",
   "metadata": {},
   "outputs": [
    {
     "name": "stderr",
     "output_type": "stream",
     "text": [
      "C:\\Users\\lohit\\anaconda3\\lib\\site-packages\\tensorflow\\python\\keras\\engine\\training.py:1844: UserWarning: `Model.fit_generator` is deprecated and will be removed in a future version. Please use `Model.fit`, which supports generators.\n",
      "  warnings.warn('`Model.fit_generator` is deprecated and '\n"
     ]
    },
    {
     "name": "stdout",
     "output_type": "stream",
     "text": [
      "Epoch 1/20\n",
      "900/900 [==============================] - 1596s 2s/step - loss: 2.0905 - accuracy: 0.2032 - val_loss: 1.7984 - val_accuracy: 0.2619\n",
      "Epoch 2/20\n",
      "900/900 [==============================] - 1480s 2s/step - loss: 1.9362 - accuracy: 0.2214 - val_loss: 1.7810 - val_accuracy: 0.2646\n",
      "Epoch 3/20\n",
      "900/900 [==============================] - 1230s 1s/step - loss: 1.9017 - accuracy: 0.2270 - val_loss: 1.7676 - val_accuracy: 0.2703\n",
      "Epoch 4/20\n",
      "900/900 [==============================] - 1252s 1s/step - loss: 1.8729 - accuracy: 0.2325 - val_loss: 1.7296 - val_accuracy: 0.2849\n",
      "Epoch 5/20\n",
      "900/900 [==============================] - 1471s 2s/step - loss: 1.8450 - accuracy: 0.2441 - val_loss: 1.7402 - val_accuracy: 0.2852\n",
      "Epoch 6/20\n",
      "900/900 [==============================] - 1497s 2s/step - loss: 1.8157 - accuracy: 0.2602 - val_loss: 1.6704 - val_accuracy: 0.3307\n",
      "Epoch 7/20\n",
      "900/900 [==============================] - 1483s 2s/step - loss: 1.7922 - accuracy: 0.2669 - val_loss: 1.6104 - val_accuracy: 0.3622\n",
      "Epoch 8/20\n",
      "900/900 [==============================] - 1114s 1s/step - loss: 1.7575 - accuracy: 0.2822 - val_loss: 1.5652 - val_accuracy: 0.3872\n",
      "Epoch 9/20\n",
      "900/900 [==============================] - 1093s 1s/step - loss: 1.7299 - accuracy: 0.3017 - val_loss: 1.4856 - val_accuracy: 0.4250\n",
      "Epoch 10/20\n",
      "900/900 [==============================] - 1113s 1s/step - loss: 1.6824 - accuracy: 0.3313 - val_loss: 1.4605 - val_accuracy: 0.4338\n",
      "Epoch 11/20\n",
      "900/900 [==============================] - 1111s 1s/step - loss: 1.6468 - accuracy: 0.3444 - val_loss: 1.4831 - val_accuracy: 0.4368\n",
      "Epoch 12/20\n",
      "900/900 [==============================] - 1090s 1s/step - loss: 1.6205 - accuracy: 0.3571 - val_loss: 1.5040 - val_accuracy: 0.4271\n",
      "Epoch 13/20\n",
      "900/900 [==============================] - 1089s 1s/step - loss: 1.5854 - accuracy: 0.3765 - val_loss: 1.3842 - val_accuracy: 0.4793\n",
      "Epoch 14/20\n",
      "900/900 [==============================] - 1106s 1s/step - loss: 1.5546 - accuracy: 0.3899 - val_loss: 1.3854 - val_accuracy: 0.4773\n",
      "Epoch 15/20\n",
      "900/900 [==============================] - 1160s 1s/step - loss: 1.5329 - accuracy: 0.4032 - val_loss: 1.2976 - val_accuracy: 0.4986\n",
      "Epoch 16/20\n",
      "900/900 [==============================] - 1553s 2s/step - loss: 1.4981 - accuracy: 0.4160 - val_loss: 1.3456 - val_accuracy: 0.4703\n",
      "Epoch 17/20\n",
      "900/900 [==============================] - 1545s 2s/step - loss: 1.4732 - accuracy: 0.4294 - val_loss: 1.2792 - val_accuracy: 0.5085\n",
      "Epoch 18/20\n",
      "900/900 [==============================] - 1529s 2s/step - loss: 1.4560 - accuracy: 0.4331 - val_loss: 1.3601 - val_accuracy: 0.4707\n",
      "Epoch 19/20\n",
      "900/900 [==============================] - 1553s 2s/step - loss: 1.4333 - accuracy: 0.4475 - val_loss: 1.2791 - val_accuracy: 0.5033\n",
      "Epoch 20/20\n",
      "900/900 [==============================] - 1256s 1s/step - loss: 1.4204 - accuracy: 0.4481 - val_loss: 1.2258 - val_accuracy: 0.5305\n"
     ]
    },
    {
     "data": {
      "text/plain": [
       "<tensorflow.python.keras.callbacks.History at 0x1f7f2a0ebe0>"
      ]
     },
     "execution_count": 24,
     "metadata": {},
     "output_type": "execute_result"
    }
   ],
   "source": [
    "model.fit_generator(training_dataset,\n",
    "                                steps_per_epoch=training_dataset.n//training_dataset.batch_size,\n",
    "                                epochs=20,\n",
    "                                validation_data = valid_dataset,\n",
    "                                validation_steps = valid_dataset.n//valid_dataset.batch_size,\n",
    "                                )"
   ]
  },
  {
   "cell_type": "code",
   "execution_count": 27,
   "id": "missing-cholesterol",
   "metadata": {},
   "outputs": [],
   "source": [
    "model.save(\"Model.h5\")"
   ]
  },
  {
   "cell_type": "code",
   "execution_count": null,
   "id": "varying-summit",
   "metadata": {},
   "outputs": [],
   "source": []
  }
 ],
 "metadata": {
  "kernelspec": {
   "display_name": "Python 3",
   "language": "python",
   "name": "python3"
  },
  "language_info": {
   "codemirror_mode": {
    "name": "ipython",
    "version": 3
   },
   "file_extension": ".py",
   "mimetype": "text/x-python",
   "name": "python",
   "nbconvert_exporter": "python",
   "pygments_lexer": "ipython3",
   "version": "3.8.5"
  }
 },
 "nbformat": 4,
 "nbformat_minor": 5
}
